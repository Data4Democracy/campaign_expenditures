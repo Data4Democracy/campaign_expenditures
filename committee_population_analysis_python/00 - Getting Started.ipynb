{
 "cells": [
  {
   "cell_type": "markdown",
   "metadata": {},
   "source": [
    "# Getting Started\n",
    "*by Alan Leggitt (leggitta3@gmail.com)*  \n",
    "*2017-06-16*\n",
    "\n",
    "The following notebooks are designed to help analyze the campaign_expenditures dataset. In order to run these notebooks on your machine, you'll need to do the following ...\n",
    "\n",
    "## 1. Setup Python environment\n",
    "\n",
    "Before starting jupyter, make sure you've installed the required modules using pip.  \n",
    "\n",
    "```\n",
    "pip install -r requirements.txt\n",
    "```\n",
    "\n",
    "## 2. Download the data\n",
    "\n",
    "If you haven't done so already, download [expendtures.zip](https://www.strongspace.com/shared/f5g1t7fcsb) and [filings.zip](https://www.strongspace.com/shared/qrdxsuqoqm), and unzip them into a directory called `data`. Make sure you have the following file structure ...\n",
    "\n",
    "```\n",
    "campaign_expenditures/\n",
    "    ...\n",
    "    data/\n",
    "        expenditures.csv\n",
    "        filings.csv\n",
    "    committee_population_analysis_python/\n",
    "        ...\n",
    "        mysql/\n",
    "            create_database.sql\n",
    "```\n",
    "\n",
    "## 3. Create MySQL database\n",
    "\n",
    "Assuming you have [MySQL](https://www.mysql.com/) installed, and you have administrative priviledges, run the following from inside this directory to create the campaign_expenditures database as well as a read only user named reader.  \n",
    "\n",
    "```\n",
    "mysql -u root -p < mysql/create_database.sql\n",
    "```\n",
    "\n",
    "... and thats it! If you follow these steps and are unable to run any of the notebooks, or you need clarification on any of these steps, please don't hesitate to email me."
   ]
  }
 ],
 "metadata": {
  "kernelspec": {
   "display_name": "Python 3",
   "language": "python",
   "name": "python3"
  },
  "language_info": {
   "codemirror_mode": {
    "name": "ipython",
    "version": 3
   },
   "file_extension": ".py",
   "mimetype": "text/x-python",
   "name": "python",
   "nbconvert_exporter": "python",
   "pygments_lexer": "ipython3",
   "version": "3.6.1"
  }
 },
 "nbformat": 4,
 "nbformat_minor": 2
}
